{
 "cells": [
  {
   "cell_type": "code",
   "execution_count": 18,
   "id": "a2383c45-8bd1-4f9e-919a-c5b8da3fe978",
   "metadata": {},
   "outputs": [
    {
     "name": "stdout",
     "output_type": "stream",
     "text": [
      "Requirement already satisfied: python-binance in c:\\users\\juanc\\anaconda3\\lib\\site-packages (1.0.26)\n",
      "Requirement already satisfied: requests in c:\\users\\juanc\\anaconda3\\lib\\site-packages (from python-binance) (2.32.3)\n",
      "Requirement already satisfied: six in c:\\users\\juanc\\anaconda3\\lib\\site-packages (from python-binance) (1.16.0)\n",
      "Requirement already satisfied: dateparser in c:\\users\\juanc\\anaconda3\\lib\\site-packages (from python-binance) (1.2.0)\n",
      "Requirement already satisfied: aiohttp in c:\\users\\juanc\\anaconda3\\lib\\site-packages (from python-binance) (3.10.5)\n",
      "Requirement already satisfied: websockets in c:\\users\\juanc\\anaconda3\\lib\\site-packages (from python-binance) (14.1)\n",
      "Requirement already satisfied: pycryptodome in c:\\users\\juanc\\anaconda3\\lib\\site-packages (from python-binance) (3.21.0)\n",
      "Requirement already satisfied: aiohappyeyeballs>=2.3.0 in c:\\users\\juanc\\anaconda3\\lib\\site-packages (from aiohttp->python-binance) (2.4.0)\n",
      "Requirement already satisfied: aiosignal>=1.1.2 in c:\\users\\juanc\\anaconda3\\lib\\site-packages (from aiohttp->python-binance) (1.2.0)\n",
      "Requirement already satisfied: attrs>=17.3.0 in c:\\users\\juanc\\anaconda3\\lib\\site-packages (from aiohttp->python-binance) (23.1.0)\n",
      "Requirement already satisfied: frozenlist>=1.1.1 in c:\\users\\juanc\\anaconda3\\lib\\site-packages (from aiohttp->python-binance) (1.4.0)\n",
      "Requirement already satisfied: multidict<7.0,>=4.5 in c:\\users\\juanc\\anaconda3\\lib\\site-packages (from aiohttp->python-binance) (6.0.4)\n",
      "Requirement already satisfied: yarl<2.0,>=1.0 in c:\\users\\juanc\\anaconda3\\lib\\site-packages (from aiohttp->python-binance) (1.11.0)\n",
      "Requirement already satisfied: python-dateutil in c:\\users\\juanc\\anaconda3\\lib\\site-packages (from dateparser->python-binance) (2.9.0.post0)\n",
      "Requirement already satisfied: pytz in c:\\users\\juanc\\anaconda3\\lib\\site-packages (from dateparser->python-binance) (2024.1)\n",
      "Requirement already satisfied: regex!=2019.02.19,!=2021.8.27 in c:\\users\\juanc\\anaconda3\\lib\\site-packages (from dateparser->python-binance) (2024.9.11)\n",
      "Requirement already satisfied: tzlocal in c:\\users\\juanc\\anaconda3\\lib\\site-packages (from dateparser->python-binance) (5.2)\n",
      "Requirement already satisfied: charset-normalizer<4,>=2 in c:\\users\\juanc\\anaconda3\\lib\\site-packages (from requests->python-binance) (3.3.2)\n",
      "Requirement already satisfied: idna<4,>=2.5 in c:\\users\\juanc\\anaconda3\\lib\\site-packages (from requests->python-binance) (3.7)\n",
      "Requirement already satisfied: urllib3<3,>=1.21.1 in c:\\users\\juanc\\anaconda3\\lib\\site-packages (from requests->python-binance) (2.2.3)\n",
      "Requirement already satisfied: certifi>=2017.4.17 in c:\\users\\juanc\\anaconda3\\lib\\site-packages (from requests->python-binance) (2024.12.14)\n",
      "Requirement already satisfied: tzdata in c:\\users\\juanc\\anaconda3\\lib\\site-packages (from tzlocal->dateparser->python-binance) (2023.3)\n"
     ]
    }
   ],
   "source": [
    "!pip install python-binance\n",
    "from binance.client import Client\n",
    "import time"
   ]
  },
  {
   "cell_type": "code",
   "execution_count": 2,
   "id": "9bb4f68b-a32a-40ae-96d3-ae36f6e4aeaf",
   "metadata": {},
   "outputs": [],
   "source": [
    "#aca van la claves para acceder a la cuenta de binance, las pongo en un txt aparte\n",
    "with open('credentials.txt') as f:\n",
    "    lines = f.readlines()\n",
    "api_key = str(lines[0]).strip()\n",
    "secret_key = str(lines[1]).strip()\n",
    "\n",
    "#y acá accedemos a la info de la cuenta\n",
    "client = Client(api_key, secret_key)"
   ]
  },
  {
   "cell_type": "code",
   "execution_count": 22,
   "id": "44c27c9d-57b4-41da-b152-f853ca5bdd8f",
   "metadata": {},
   "outputs": [
    {
     "name": "stdout",
     "output_type": "stream",
     "text": [
      "bid price      | bid quant  | ask price      | ask quant \n",
      "98554.01000000 | 0.72283000 | 98554.02000000 | 9.52191000\n",
      "98553.96000000 | 0.00022000 | 98554.48000000 | 0.00028000\n",
      "98553.95000000 | 0.00022000 | 98554.50000000 | 0.53759000\n",
      "bid price      | bid quant  | ask price      | ask quant  \n",
      "98549.39000000 | 0.02933000 | 98549.40000000 | 11.83108000\n",
      "98549.32000000 | 0.00022000 | 98549.78000000 | 0.81723000 \n",
      "98549.22000000 | 0.00022000 | 98549.79000000 | 0.00022000 \n"
     ]
    },
    {
     "ename": "KeyboardInterrupt",
     "evalue": "",
     "output_type": "error",
     "traceback": [
      "\u001b[1;31m---------------------------------------------------------------------------\u001b[0m",
      "\u001b[1;31mKeyboardInterrupt\u001b[0m                         Traceback (most recent call last)",
      "Cell \u001b[1;32mIn[22], line 20\u001b[0m\n\u001b[0;32m     18\u001b[0m     \u001b[38;5;28mprint\u001b[39m(\u001b[38;5;124m\"\u001b[39m\u001b[38;5;124m | \u001b[39m\u001b[38;5;124m\"\u001b[39m\u001b[38;5;241m.\u001b[39mjoin(\u001b[38;5;28mstr\u001b[39m(valor)\u001b[38;5;241m.\u001b[39mljust(col_widths[i]) \u001b[38;5;28;01mfor\u001b[39;00m i, valor \u001b[38;5;129;01min\u001b[39;00m \u001b[38;5;28menumerate\u001b[39m(fila)))\n\u001b[0;32m     19\u001b[0m \u001b[38;5;66;03m#tiempo de actualización\u001b[39;00m\n\u001b[1;32m---> 20\u001b[0m time\u001b[38;5;241m.\u001b[39msleep(refresh)\n",
      "\u001b[1;31mKeyboardInterrupt\u001b[0m: "
     ]
    }
   ],
   "source": [
    "#nombre del activo con el que queremos trabajar\n",
    "ticker = 'BTCUSDT'\n",
    "#tiempo de espera para actualizar\n",
    "refresh = 5\n",
    "#loop infinito para que se actualice constantemente\n",
    "while 0==0:\n",
    "    #traemos el libro de órdenes\n",
    "    book_btc = client.get_order_book(symbol = ticker)\n",
    "    #tabla con las 3 primeras lineas de cada lado del libro\n",
    "    btc_spot = [\n",
    "        ['bid price', 'bid quant', 'ask price', 'ask quant'],\n",
    "        [book_btc['bids'][0][0], book_btc['bids'][0][1], book_btc['asks'][0][0], book_btc['asks'][0][1]],\n",
    "        [book_btc['bids'][1][0], book_btc['bids'][1][1], book_btc['asks'][1][0], book_btc['asks'][1][1]],\n",
    "        [book_btc['bids'][2][0], book_btc['bids'][2][1], book_btc['asks'][2][0], book_btc['asks'][2][1]]\n",
    "            ]\n",
    "    col_widths = [max(len(str(fila[i])) for fila in btc_spot) for i in range(len(btc_spot[0]))]\n",
    "    for fila in btc_spot:\n",
    "        print(\" | \".join(str(valor).ljust(col_widths[i]) for i, valor in enumerate(fila)))\n",
    "    #tiempo de actualización\n",
    "    time.sleep(refresh) "
   ]
  },
  {
   "cell_type": "code",
   "execution_count": null,
   "id": "88109262-466e-44f6-bd8d-1cfbed7535d1",
   "metadata": {},
   "outputs": [],
   "source": [
    "#tambien se puede usar client.get_orderbook_tickers para tener solo la primera linea de bid and ask\n",
    "#para cada uno de todos los tickers existentes en binance"
   ]
  }
 ],
 "metadata": {
  "kernelspec": {
   "display_name": "Python [conda env:base] *",
   "language": "python",
   "name": "conda-base-py"
  },
  "language_info": {
   "codemirror_mode": {
    "name": "ipython",
    "version": 3
   },
   "file_extension": ".py",
   "mimetype": "text/x-python",
   "name": "python",
   "nbconvert_exporter": "python",
   "pygments_lexer": "ipython3",
   "version": "3.12.7"
  }
 },
 "nbformat": 4,
 "nbformat_minor": 5
}
