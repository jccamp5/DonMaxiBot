{
 "cells": [
  {
   "cell_type": "code",
   "execution_count": null,
   "id": "a2383c45-8bd1-4f9e-919a-c5b8da3fe978",
   "metadata": {},
   "outputs": [],
   "source": [
    "!pip install python-binance\n",
    "from binance.client import Client\n",
    "import time"
   ]
  },
  {
   "cell_type": "code",
   "execution_count": null,
   "id": "9bb4f68b-a32a-40ae-96d3-ae36f6e4aeaf",
   "metadata": {},
   "outputs": [],
   "source": [
    "#Binance credentials are in a txt\n",
    "with open('credentials.txt') as f:\n",
    "    lines = f.readlines()\n",
    "api_key = str(lines[0]).strip()\n",
    "secret_key = str(lines[1]).strip()\n",
    "\n",
    "#and here we use those credentials to access the API\n",
    "client = Client(api_key, secret_key)"
   ]
  },
  {
   "cell_type": "code",
   "execution_count": null,
   "id": "44c27c9d-57b4-41da-b152-f853ca5bdd8f",
   "metadata": {},
   "outputs": [],
   "source": [
    "ticker = 'BTCUSDT'\n",
    "#update timeout (secs)\n",
    "update = 50\n",
    "#infinite loop to constantly update\n",
    "while 0==0:\n",
    "    #order book\n",
    "    book_btc = client.get_order_book(symbol = ticker)\n",
    "    #on a table\n",
    "    btc_spot = [\n",
    "        ['bid price', 'bid quant', 'ask price', 'ask quant'],\n",
    "        [book_btc['bids'][0][0], book_btc['bids'][0][1], book_btc['asks'][0][0], book_btc['asks'][0][1]],\n",
    "        [book_btc['bids'][1][0], book_btc['bids'][1][1], book_btc['asks'][1][0], book_btc['asks'][1][1]],\n",
    "        [book_btc['bids'][2][0], book_btc['bids'][2][1], book_btc['asks'][2][0], book_btc['asks'][2][1]]\n",
    "            ]\n",
    "    col_widths = [max(len(str(fila[i])) for fila in btc_spot) for i in range(len(btc_spot[0]))]\n",
    "    for fila in btc_spot:\n",
    "        print(\" | \".join(str(valor).ljust(col_widths[i]) for i, valor in enumerate(fila)))\n",
    "    #command to update\n",
    "    time.sleep(update) "
   ]
  },
  {
   "cell_type": "code",
   "execution_count": null,
   "id": "5d306e94-1543-46c5-9cfe-3ddf2a56c081",
   "metadata": {},
   "outputs": [],
   "source": [
    "#loading of orders\n",
    "#order = client.order_market_buy(symbol=ticker, quantity=0.00001)\n",
    "#print(\"ok\")"
   ]
  },
  {
   "cell_type": "code",
   "execution_count": null,
   "id": "83865bb1-1fe2-4891-add2-7d131f0d8b51",
   "metadata": {},
   "outputs": [],
   "source": []
  },
  {
   "cell_type": "code",
   "execution_count": null,
   "id": "629516c9-6ee0-4bdb-b3d1-8a1082e27fea",
   "metadata": {},
   "outputs": [],
   "source": []
  }
 ],
 "metadata": {
  "kernelspec": {
   "display_name": "Python [conda env:base] *",
   "language": "python",
   "name": "conda-base-py"
  },
  "language_info": {
   "codemirror_mode": {
    "name": "ipython",
    "version": 3
   },
   "file_extension": ".py",
   "mimetype": "text/x-python",
   "name": "python",
   "nbconvert_exporter": "python",
   "pygments_lexer": "ipython3",
   "version": "3.12.7"
  }
 },
 "nbformat": 4,
 "nbformat_minor": 5
}
